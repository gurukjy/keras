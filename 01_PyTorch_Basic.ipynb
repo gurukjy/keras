{
  "nbformat": 4,
  "nbformat_minor": 0,
  "metadata": {
    "colab": {
      "name": "01-PyTorch-Basic.ipynb",
      "provenance": [],
      "collapsed_sections": [],
      "toc_visible": true,
      "include_colab_link": true
    },
    "kernelspec": {
      "name": "python3",
      "display_name": "Python 3"
    },
    "language_info": {
      "name": "python"
    }
  },
  "cells": [
    {
      "cell_type": "markdown",
      "metadata": {
        "id": "view-in-github",
        "colab_type": "text"
      },
      "source": [
        "<a href=\"https://colab.research.google.com/github/gurukjy/keras/blob/master/01_PyTorch_Basic.ipynb\" target=\"_parent\"><img src=\"https://colab.research.google.com/assets/colab-badge.svg\" alt=\"Open In Colab\"/></a>"
      ]
    },
    {
      "cell_type": "markdown",
      "metadata": {
        "id": "J4er6OCm4gY6"
      },
      "source": [
        "# PyTorch 101\n",
        "\n",
        "- PyTorch tutorial website 참고(https://tutorials.pytorch.kr/beginner/deep_learning_60min_blitz.html)\n",
        "- PyTorch is multidimensional arrays, tensors and an extensive library of operations on them"
      ]
    },
    {
      "cell_type": "code",
      "metadata": {
        "id": "QXutfY7p4Raq"
      },
      "source": [
        "# torch가 설치되어 있지 않다면\n",
        "# https://pytorch.org 에서 환경에 맞는 command로 설치하거나\n",
        "# !pip install torch 또는 !pip3 install torch (Python3 환경임을 명시)\n",
        "\n",
        "import torch"
      ],
      "execution_count": 2,
      "outputs": []
    },
    {
      "cell_type": "markdown",
      "metadata": {
        "id": "V4k-VyJH4zDo"
      },
      "source": [
        "## 1. Tensor\n",
        "\n",
        "- PyTorch의 기본 단위이며 Numpy의 배열과 유사하다"
      ]
    },
    {
      "cell_type": "markdown",
      "metadata": {
        "id": "44UijOVf4_Hs"
      },
      "source": [
        "### 텐서 만들기"
      ]
    },
    {
      "cell_type": "code",
      "metadata": {
        "id": "UA86Mdu54xQ-",
        "colab": {
          "base_uri": "https://localhost:8080/"
        },
        "outputId": "5a848eaf-9053-4e76-de55-cacb21a1f9b3"
      },
      "source": [
        "# Create a torch.Tensor object with the given data.  It is a 1D vector\n",
        "V_data = [1., 2., 3.]\n",
        "V = torch.Tensor(V_data)\n",
        "print(V)\n",
        "\n",
        "# Creates a matrix\n",
        "M_data = [[1., 2., 3.], [4., 5., 6]]\n",
        "M = torch.Tensor(M_data)\n",
        "print(M)\n",
        "\n",
        "# Create a 3D tensor of size 2x2x2.\n",
        "T_data = [[[1.,2.], [3.,4.]],\n",
        "          [[5.,6.], [7.,8.]]]\n",
        "T = torch.Tensor(T_data)\n",
        "print(T)"
      ],
      "execution_count": 3,
      "outputs": [
        {
          "output_type": "stream",
          "text": [
            "tensor([1., 2., 3.])\n",
            "tensor([[1., 2., 3.],\n",
            "        [4., 5., 6.]])\n",
            "tensor([[[1., 2.],\n",
            "         [3., 4.]],\n",
            "\n",
            "        [[5., 6.],\n",
            "         [7., 8.]]])\n"
          ],
          "name": "stdout"
        }
      ]
    },
    {
      "cell_type": "code",
      "metadata": {
        "id": "56jWpi7R5EoN",
        "colab": {
          "base_uri": "https://localhost:8080/"
        },
        "outputId": "e56f50b9-1f5b-4c09-c8c8-3eeda0fa938a"
      },
      "source": [
        "# torch.ones: create a tensor filled with 1.0\n",
        "a = torch.ones(3)\n",
        "print(a)\n",
        "\n",
        "b = torch.ones(2, 3)\n",
        "print(b)"
      ],
      "execution_count": 4,
      "outputs": [
        {
          "output_type": "stream",
          "text": [
            "tensor([1., 1., 1.])\n",
            "tensor([[1., 1., 1.],\n",
            "        [1., 1., 1.]])\n"
          ],
          "name": "stdout"
        }
      ]
    },
    {
      "cell_type": "code",
      "metadata": {
        "id": "QNgsgOGB5FRC",
        "colab": {
          "base_uri": "https://localhost:8080/"
        },
        "outputId": "0fb20e8f-7f27-492c-c473-e9d7685865f2"
      },
      "source": [
        "# torch.zeros: create a tensor filled with 0.0\n",
        "c = torch.zeros(4)\n",
        "print(c)\n",
        "\n",
        "d = torch.zeros(5, 2, 3)\n",
        "print(d)"
      ],
      "execution_count": 5,
      "outputs": [
        {
          "output_type": "stream",
          "text": [
            "tensor([0., 0., 0., 0.])\n",
            "tensor([[[0., 0., 0.],\n",
            "         [0., 0., 0.]],\n",
            "\n",
            "        [[0., 0., 0.],\n",
            "         [0., 0., 0.]],\n",
            "\n",
            "        [[0., 0., 0.],\n",
            "         [0., 0., 0.]],\n",
            "\n",
            "        [[0., 0., 0.],\n",
            "         [0., 0., 0.]],\n",
            "\n",
            "        [[0., 0., 0.],\n",
            "         [0., 0., 0.]]])\n"
          ],
          "name": "stdout"
        }
      ]
    },
    {
      "cell_type": "code",
      "metadata": {
        "id": "13NAPOy75J-F"
      },
      "source": [
        "# 초기화하면서 현재 메모리에 존재하는 값\n",
        "x = torch.empty(5, 3)\n",
        "print(x)\n",
        "\n",
        "x = torch.rand(5, 3)\n",
        "print(x)"
      ],
      "execution_count": null,
      "outputs": []
    },
    {
      "cell_type": "code",
      "metadata": {
        "id": "YyaeipP85Lkl"
      },
      "source": [
        "# torch.rand: Returns a tensor filled with random numbers from a uniform distribution on the interval [0, 1)\n",
        "rand_points = torch.rand(4, dtype=torch.double)\n",
        "print(rand_points)\n",
        "\n",
        "rand_points_2 = torch.rand(2, 3, dtype=torch.float)\n",
        "print(rand_points_2)"
      ],
      "execution_count": null,
      "outputs": []
    },
    {
      "cell_type": "code",
      "metadata": {
        "id": "UKBT3e7w5N63"
      },
      "source": [
        "# torch.randn: Returns a tensor filled with random numbers\n",
        "# Use normal distribution with mean 0 and variance 1\n",
        "# also called the standard normal distribution\n",
        "\n",
        "randn_points = torch.randn(3, 3)\n",
        "print(randn_points)"
      ],
      "execution_count": null,
      "outputs": []
    },
    {
      "cell_type": "code",
      "metadata": {
        "id": "RsT4B1_55Q27"
      },
      "source": [
        "# Compute size of matrix\n",
        "print(randn_points.size())"
      ],
      "execution_count": null,
      "outputs": []
    },
    {
      "cell_type": "markdown",
      "metadata": {
        "id": "uOrNw5jw5YQb"
      },
      "source": [
        "- 실습\n",
        "\n",
        "1. 5 by 4 의 empty tensor를 생성한다\n",
        "2. 3 x 3 의 one matrix를 생성한다\n",
        "3. 2 x 2 의 zero matrix를 생성한다\n",
        "4. 3 x 5의 rand 행렬을 생성한다\n"
      ]
    },
    {
      "cell_type": "code",
      "metadata": {
        "id": "HSYTd-BR5SkT"
      },
      "source": [
        ""
      ],
      "execution_count": null,
      "outputs": []
    },
    {
      "cell_type": "markdown",
      "metadata": {
        "id": "hoVXYfkQ6EJi"
      },
      "source": [
        "### 텐서 인덱스"
      ]
    },
    {
      "cell_type": "code",
      "metadata": {
        "id": "YR-SbkP557md"
      },
      "source": [
        "temp = torch.Tensor([0, 1, 2, 3, 4, 5, 6, 7])\n",
        "\n",
        "print(temp[:]) # tensor element 전체\n",
        "print(temp[1:4]) # index 1과 4 사이의 원소들 출력\n",
        "print(temp[1:]) # index 1부터의 원소들 출력\n",
        "print(temp[:4]) # index 4까지의 원소들 출력\n",
        "print(temp[-1]) # 뒤에서 첫번째 원소 출력\n",
        "print(temp[:-1]) # index -1 = 뒤에서부터 index 1에 해당하는 원소까지만 출력\n",
        "print(temp[1:6:2]) # index 1과 6 사이의 원소 출력, 이때 2개 단위로 건너뛰면서"
      ],
      "execution_count": null,
      "outputs": []
    },
    {
      "cell_type": "code",
      "metadata": {
        "id": "0DlQoqKz6H86"
      },
      "source": [
        "temp2 = torch.Tensor([[1, 2, 3], [4, 5, 6]])\n",
        "\n",
        "print(temp2)\n",
        "print(temp2[1:])\n",
        "print(temp2[1:, 1:])\n",
        "print(temp2[1:, 0])"
      ],
      "execution_count": null,
      "outputs": []
    },
    {
      "cell_type": "markdown",
      "metadata": {
        "id": "UlDwKTYy6OcF"
      },
      "source": [
        "- 실습\n",
        "\n",
        "1. 7 x 10 의 ones matrix를 생성한다\n",
        "2. indexing을 활용해서 위에서 만든 matrix를 3 x 3 으로 바꾼다"
      ]
    },
    {
      "cell_type": "code",
      "metadata": {
        "id": "nWFWz_AA6JaQ"
      },
      "source": [
        ""
      ],
      "execution_count": null,
      "outputs": []
    },
    {
      "cell_type": "markdown",
      "metadata": {
        "id": "qE4yPVT46nmr"
      },
      "source": [
        "### 텐서의 크기와 텐서 변환하기(reshape)"
      ]
    },
    {
      "cell_type": "code",
      "metadata": {
        "id": "qIWuqeFX6f_X"
      },
      "source": [
        "# shape: Returns the size of the tensor\n",
        "a = torch.Tensor([[1, 2, 3], [4, 5, 6]])\n",
        "\n",
        "print(a)\n",
        "print(a.shape)"
      ],
      "execution_count": null,
      "outputs": []
    },
    {
      "cell_type": "code",
      "metadata": {
        "id": "XcJf6MOE6rU9"
      },
      "source": [
        "# size()\n",
        "print(a.size())"
      ],
      "execution_count": null,
      "outputs": []
    },
    {
      "cell_type": "code",
      "metadata": {
        "id": "rkFhG2ri6snX"
      },
      "source": [
        "# Reshape: Returns a tensor with the same data and number of elements as the original tensor but with the specified shape. \n",
        "a_reshape = a.reshape(3, 2)\n",
        "print(a_reshape)\n",
        "print(a_reshape.shape)\n",
        "\n",
        "a_reshape_2 = a.reshape(-1, 2) # the size -1 is inferred from other dimensions\n",
        "print(a_reshape_2)\n",
        "print(a_reshape_2.shape)"
      ],
      "execution_count": null,
      "outputs": []
    },
    {
      "cell_type": "code",
      "metadata": {
        "id": "VtPess6T6uWe"
      },
      "source": [
        "# if shape is not compatible with the current shape:\n",
        "a_no_reshape = a.reshape(4, 2)"
      ],
      "execution_count": null,
      "outputs": []
    },
    {
      "cell_type": "code",
      "metadata": {
        "id": "81B60t5360tj"
      },
      "source": [
        "# View: Returns a new tensor with the same data as the original tensor but of a different shape.\n",
        "# reshape과 거의 비슷하게 사용\n",
        "\n",
        "x = torch.randn(4, 4)\n",
        "print(x.size())\n",
        "\n",
        "y = x.view(16)\n",
        "print(y.size())\n",
        "\n",
        "z = x.view(-1, 8)  # the size -1 is inferred from other dimensions\n",
        "print(z.size())"
      ],
      "execution_count": null,
      "outputs": []
    },
    {
      "cell_type": "markdown",
      "metadata": {
        "id": "2wx60xoH7R-8"
      },
      "source": [
        "- 실습\n",
        "\n",
        "1. 8x8 랜덤 행렬 생성한다\n",
        "2. 크기를 바꿔주는 view를 사용하여 8x8를 64로 변환한다\n",
        "3. -1을 사용하여 원래 크기 8x8 을 4x4x4로 변환한다"
      ]
    },
    {
      "cell_type": "code",
      "metadata": {
        "id": "urlim5lL62OI"
      },
      "source": [
        ""
      ],
      "execution_count": null,
      "outputs": []
    },
    {
      "cell_type": "markdown",
      "metadata": {
        "id": "q2m4OvLh8JWo"
      },
      "source": [
        "### 텐서 연산"
      ]
    },
    {
      "cell_type": "code",
      "metadata": {
        "id": "gIes-OKQ7wKg"
      },
      "source": [
        "x = torch.ones(1, 2)\n",
        "print(x)\n",
        "y = torch.ones(5, 3)\n",
        "print(y)"
      ],
      "execution_count": null,
      "outputs": []
    },
    {
      "cell_type": "code",
      "metadata": {
        "id": "ueIKWkbL8NEz"
      },
      "source": [
        "print(x+y)"
      ],
      "execution_count": null,
      "outputs": []
    },
    {
      "cell_type": "code",
      "metadata": {
        "id": "VNx8Pwkl8OaL"
      },
      "source": [
        "y = torch.ones(5, 2)\n",
        "print(y)\n",
        "\n",
        "# 1.\n",
        "print(x+y)\n",
        "# 2. \n",
        "print(torch.add(x, y))\n",
        "# 3.\n",
        "result = torch.empty(5, 2)\n",
        "torch.add(x, y, out=result)\n",
        "print(result)\n",
        "# 4. inplace\n",
        "print(y.add_(x))"
      ],
      "execution_count": null,
      "outputs": []
    },
    {
      "cell_type": "markdown",
      "metadata": {
        "id": "Geq5Pr-t8aiO"
      },
      "source": [
        "### 텐서를 numpy로 변환하기"
      ]
    },
    {
      "cell_type": "code",
      "metadata": {
        "id": "kYrdfHKm8Qjm"
      },
      "source": [
        "# tensor to numpy array\n",
        "\n",
        "points = torch.ones(3, 4)\n",
        "points_np = points.numpy()\n",
        "\n",
        "print(points_np)"
      ],
      "execution_count": null,
      "outputs": []
    },
    {
      "cell_type": "code",
      "metadata": {
        "id": "tIRtFWUK8ebj"
      },
      "source": [
        "# numpy arrray to tensor\n",
        "points = torch.from_numpy(points_np)\n",
        "\n",
        "print(points)"
      ],
      "execution_count": null,
      "outputs": []
    },
    {
      "cell_type": "markdown",
      "metadata": {
        "id": "v6gVHYE48oH4"
      },
      "source": [
        "#### List, Numpy 배열을 텐서로 만들기"
      ]
    },
    {
      "cell_type": "code",
      "metadata": {
        "id": "LL6vnvaW8u0Y"
      },
      "source": [
        "import numpy as np"
      ],
      "execution_count": null,
      "outputs": []
    },
    {
      "cell_type": "code",
      "metadata": {
        "id": "5sX3dFgI8f6z"
      },
      "source": [
        "l = [13,4] # 리스트 생성\n",
        "r = np.array([4,56,7]) # 넘파이 배열 생성"
      ],
      "execution_count": null,
      "outputs": []
    },
    {
      "cell_type": "code",
      "metadata": {
        "id": "nltYH4m_8szC"
      },
      "source": [
        "torch.tensor(l) # 리스트를 텐서로 쉽게 변환할 수 있다."
      ],
      "execution_count": null,
      "outputs": []
    },
    {
      "cell_type": "code",
      "metadata": {
        "id": "b05CcQ7a8yCg"
      },
      "source": [
        "torch.tensor(r) # 넘파이 배열을 텐서로 쉽게 변환할 수 있다."
      ],
      "execution_count": null,
      "outputs": []
    },
    {
      "cell_type": "markdown",
      "metadata": {
        "id": "8--Mr-qG-idR"
      },
      "source": [
        "## Backpropagation\n",
        "\n",
        "- PyTorch는 역전파(backpropagation)를 위한 자동미분 제공"
      ]
    },
    {
      "cell_type": "code",
      "metadata": {
        "id": "-4sEdz7Y8zAM"
      },
      "source": [
        "# requires_grad=True는 해당 텐서(x)를 기준으로 모든 연산을 추적하는 옵션이다\n",
        "# 즉, x에 대해서 미분가능\n",
        "x = torch.ones(2,2, requires_grad=True)\n",
        "print(x)"
      ],
      "execution_count": null,
      "outputs": []
    },
    {
      "cell_type": "code",
      "metadata": {
        "id": "YI9R6Ncm--DU"
      },
      "source": [
        "# y는 x에 대한 식\n",
        "y = x + 1\n",
        "\n",
        "# z는 y에 대한 식\n",
        "z = 2*y**2\n",
        "\n",
        "# res는 z에 대한 식이다\n",
        "res = z.mean()\n",
        "\n",
        "# x에 대해 미분가능\n",
        "print(\"y: \", y)\n",
        "print(\"z: \", z)\n",
        "print(\"Result: \", res)"
      ],
      "execution_count": null,
      "outputs": []
    },
    {
      "cell_type": "code",
      "metadata": {
        "id": "lYCphJOE-_pP"
      },
      "source": [
        "# res를 기준으로 역전파를 한다\n",
        "# ex. loss.backward()\n",
        "\n",
        "# res = (z_1 + .. +z_4)/4\n",
        "# z_i = 2(y_i)**2\n",
        "# z_i = 2(x_i+1)**2\n",
        "# d(res)/dx_i = x_i + 1\n",
        "\n",
        "res.backward()"
      ],
      "execution_count": null,
      "outputs": []
    },
    {
      "cell_type": "code",
      "metadata": {
        "id": "LvulBR9f_oJ4"
      },
      "source": [
        "print(x)\n",
        "print(x.grad)"
      ],
      "execution_count": null,
      "outputs": []
    },
    {
      "cell_type": "code",
      "metadata": {
        "id": "vJ1GYo6q_q4e"
      },
      "source": [
        ""
      ],
      "execution_count": null,
      "outputs": []
    }
  ]
}