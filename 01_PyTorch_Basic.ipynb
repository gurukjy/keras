{
  "nbformat": 4,
  "nbformat_minor": 0,
  "metadata": {
    "colab": {
      "name": "01-PyTorch-Basic.ipynb",
      "provenance": [],
      "collapsed_sections": [],
      "toc_visible": true,
      "include_colab_link": true
    },
    "kernelspec": {
      "name": "python3",
      "display_name": "Python 3"
    },
    "language_info": {
      "name": "python"
    }
  },
  "cells": [
    {
      "cell_type": "markdown",
      "metadata": {
        "id": "view-in-github",
        "colab_type": "text"
      },
      "source": [
        "<a href=\"https://colab.research.google.com/github/gurukjy/keras/blob/master/01_PyTorch_Basic.ipynb\" target=\"_parent\"><img src=\"https://colab.research.google.com/assets/colab-badge.svg\" alt=\"Open In Colab\"/></a>"
      ]
    },
    {
      "cell_type": "markdown",
      "metadata": {
        "id": "J4er6OCm4gY6"
      },
      "source": [
        "# PyTorch 101\n",
        "\n",
        "- PyTorch tutorial website 참고(https://tutorials.pytorch.kr/beginner/deep_learning_60min_blitz.html)\n",
        "- PyTorch is multidimensional arrays, tensors and an extensive library of operations on them"
      ]
    },
    {
      "cell_type": "code",
      "metadata": {
        "id": "QXutfY7p4Raq"
      },
      "source": [
        "# torch가 설치되어 있지 않다면\n",
        "# https://pytorch.org 에서 환경에 맞는 command로 설치하거나\n",
        "# !pip install torch 또는 !pip3 install torch (Python3 환경임을 명시)\n",
        "\n",
        "import torch"
      ],
      "execution_count": 2,
      "outputs": []
    },
    {
      "cell_type": "markdown",
      "metadata": {
        "id": "V4k-VyJH4zDo"
      },
      "source": [
        "## 1. Tensor\n",
        "\n",
        "- PyTorch의 기본 단위이며 Numpy의 배열과 유사하다"
      ]
    },
    {
      "cell_type": "markdown",
      "metadata": {
        "id": "44UijOVf4_Hs"
      },
      "source": [
        "### 텐서 만들기"
      ]
    },
    {
      "cell_type": "code",
      "metadata": {
        "id": "UA86Mdu54xQ-",
        "colab": {
          "base_uri": "https://localhost:8080/"
        },
        "outputId": "5a848eaf-9053-4e76-de55-cacb21a1f9b3"
      },
      "source": [
        "# Create a torch.Tensor object with the given data.  It is a 1D vector\n",
        "V_data = [1., 2., 3.]\n",
        "V = torch.Tensor(V_data)\n",
        "print(V)\n",
        "\n",
        "# Creates a matrix\n",
        "M_data = [[1., 2., 3.], [4., 5., 6]]\n",
        "M = torch.Tensor(M_data)\n",
        "print(M)\n",
        "\n",
        "# Create a 3D tensor of size 2x2x2.\n",
        "T_data = [[[1.,2.], [3.,4.]],\n",
        "          [[5.,6.], [7.,8.]]]\n",
        "T = torch.Tensor(T_data)\n",
        "print(T)"
      ],
      "execution_count": 3,
      "outputs": [
        {
          "output_type": "stream",
          "text": [
            "tensor([1., 2., 3.])\n",
            "tensor([[1., 2., 3.],\n",
            "        [4., 5., 6.]])\n",
            "tensor([[[1., 2.],\n",
            "         [3., 4.]],\n",
            "\n",
            "        [[5., 6.],\n",
            "         [7., 8.]]])\n"
          ],
          "name": "stdout"
        }
      ]
    },
    {
      "cell_type": "code",
      "metadata": {
        "id": "56jWpi7R5EoN",
        "colab": {
          "base_uri": "https://localhost:8080/"
        },
        "outputId": "e56f50b9-1f5b-4c09-c8c8-3eeda0fa938a"
      },
      "source": [
        "# torch.ones: create a tensor filled with 1.0\n",
        "a = torch.ones(3)\n",
        "print(a)\n",
        "\n",
        "b = torch.ones(2, 3)\n",
        "print(b)"
      ],
      "execution_count": 4,
      "outputs": [
        {
          "output_type": "stream",
          "text": [
            "tensor([1., 1., 1.])\n",
            "tensor([[1., 1., 1.],\n",
            "        [1., 1., 1.]])\n"
          ],
          "name": "stdout"
        }
      ]
    },
    {
      "cell_type": "code",
      "metadata": {
        "id": "QNgsgOGB5FRC",
        "colab": {
          "base_uri": "https://localhost:8080/"
        },
        "outputId": "0fb20e8f-7f27-492c-c473-e9d7685865f2"
      },
      "source": [
        "# torch.zeros: create a tensor filled with 0.0\n",
        "c = torch.zeros(4)\n",
        "print(c)\n",
        "\n",
        "d = torch.zeros(5, 2, 3)\n",
        "print(d)"
      ],
      "execution_count": 5,
      "outputs": [
        {
          "output_type": "stream",
          "text": [
            "tensor([0., 0., 0., 0.])\n",
            "tensor([[[0., 0., 0.],\n",
            "         [0., 0., 0.]],\n",
            "\n",
            "        [[0., 0., 0.],\n",
            "         [0., 0., 0.]],\n",
            "\n",
            "        [[0., 0., 0.],\n",
            "         [0., 0., 0.]],\n",
            "\n",
            "        [[0., 0., 0.],\n",
            "         [0., 0., 0.]],\n",
            "\n",
            "        [[0., 0., 0.],\n",
            "         [0., 0., 0.]]])\n"
          ],
          "name": "stdout"
        }
      ]
    },
    {
      "cell_type": "code",
      "metadata": {
        "id": "13NAPOy75J-F",
        "colab": {
          "base_uri": "https://localhost:8080/"
        },
        "outputId": "071df4ce-21f6-4b4a-80b8-152f07b7b5ff"
      },
      "source": [
        "# 초기화하면서 현재 메모리에 존재하는 값\n",
        "x = torch.empty(5, 3)\n",
        "print(x)\n",
        "\n",
        "x = torch.rand(5, 3)\n",
        "print(x)"
      ],
      "execution_count": 11,
      "outputs": [
        {
          "output_type": "stream",
          "text": [
            "tensor([[-2.0151e+24,  3.0845e-41,  2.3694e-38],\n",
            "        [ 7.6892e-06,  3.6893e+19,  1.8604e+00],\n",
            "        [ 1.8487e+00,  1.8672e+00,  1.8555e+00],\n",
            "        [ 5.2789e-01,  2.8083e-01,  4.5886e-01],\n",
            "        [ 9.3774e-01,  6.9075e-01,  9.0900e-01]])\n",
            "tensor([[6.2074e-01, 1.9566e-01, 8.2028e-04],\n",
            "        [6.8786e-01, 7.0338e-01, 7.9815e-01],\n",
            "        [9.6325e-02, 8.3201e-01, 4.2942e-01],\n",
            "        [4.1835e-01, 2.1993e-01, 3.9834e-01],\n",
            "        [3.7861e-01, 3.5190e-02, 6.7799e-01]])\n"
          ],
          "name": "stdout"
        }
      ]
    },
    {
      "cell_type": "code",
      "metadata": {
        "id": "YyaeipP85Lkl",
        "colab": {
          "base_uri": "https://localhost:8080/"
        },
        "outputId": "f108a3f0-9842-432c-a410-18f231199bcc"
      },
      "source": [
        "# torch.rand: Returns a tensor filled with random numbers from a uniform distribution on the interval [0, 1)\n",
        "rand_points = torch.rand(4, dtype=torch.double)\n",
        "print(rand_points)\n",
        "\n",
        "rand_points_2 = torch.rand(2, 3, dtype=torch.float)\n",
        "print(rand_points_2)\n",
        "\n",
        "# torch.long"
      ],
      "execution_count": 12,
      "outputs": [
        {
          "output_type": "stream",
          "text": [
            "tensor([0.2554, 0.5459, 0.7655, 0.5240], dtype=torch.float64)\n",
            "tensor([[0.7643, 0.0831, 0.4229],\n",
            "        [0.0875, 0.0352, 0.8014]])\n"
          ],
          "name": "stdout"
        }
      ]
    },
    {
      "cell_type": "code",
      "metadata": {
        "id": "UKBT3e7w5N63",
        "colab": {
          "base_uri": "https://localhost:8080/"
        },
        "outputId": "596aaaac-ac72-41f7-a4a4-7b19d435e4c3"
      },
      "source": [
        "# torch.randn: Returns a tensor filled with random numbers\n",
        "# Use normal distribution with mean 0 and variance 1\n",
        "# also called the standard normal distribution\n",
        "\n",
        "randn_points = torch.randn(3, 3)\n",
        "print(randn_points)"
      ],
      "execution_count": 13,
      "outputs": [
        {
          "output_type": "stream",
          "text": [
            "tensor([[ 0.3319,  1.0240, -0.6789],\n",
            "        [-1.9956,  0.3716,  1.7547],\n",
            "        [-0.6850,  0.8924, -1.0870]])\n"
          ],
          "name": "stdout"
        }
      ]
    },
    {
      "cell_type": "code",
      "metadata": {
        "id": "RsT4B1_55Q27",
        "colab": {
          "base_uri": "https://localhost:8080/"
        },
        "outputId": "8c5654e4-3974-4f1a-8e5b-b95737f12a09"
      },
      "source": [
        "# Compute size of matrix\n",
        "print(randn_points.size())"
      ],
      "execution_count": 14,
      "outputs": [
        {
          "output_type": "stream",
          "text": [
            "torch.Size([3, 3])\n"
          ],
          "name": "stdout"
        }
      ]
    },
    {
      "cell_type": "markdown",
      "metadata": {
        "id": "uOrNw5jw5YQb"
      },
      "source": [
        "- 실습\n",
        "\n",
        "1. 5 by 4 의 empty tensor를 생성한다\n",
        "2. 3 x 3 의 one matrix를 생성한다\n",
        "3. 2 x 2 의 zero matrix를 생성한다\n",
        "4. 3 x 5의 rand 행렬을 생성한다\n"
      ]
    },
    {
      "cell_type": "code",
      "metadata": {
        "id": "HSYTd-BR5SkT",
        "colab": {
          "base_uri": "https://localhost:8080/"
        },
        "outputId": "6331a391-1d42-4dd8-a530-ed361355f75f"
      },
      "source": [
        "print(torch.empty(5,4))\n",
        "print(torch.ones(3,3))\n",
        "print(torch.zeros(2,2))\n",
        "print(torch.rand(3,5))"
      ],
      "execution_count": 17,
      "outputs": [
        {
          "output_type": "stream",
          "text": [
            "tensor([[-2.6045e+24,  3.0845e-41,  7.0065e-44,  6.8664e-44],\n",
            "        [ 6.3058e-44,  6.7262e-44,  7.1466e-44,  6.3058e-44],\n",
            "        [ 7.0065e-44,  7.2868e-44,  1.1771e-43,  6.7262e-44],\n",
            "        [ 6.8664e-44,  8.1275e-44,  6.7262e-44,  7.9874e-44],\n",
            "        [ 8.1275e-44,  6.7262e-44,  7.7071e-44,  6.4460e-44]])\n",
            "tensor([[1., 1., 1.],\n",
            "        [1., 1., 1.],\n",
            "        [1., 1., 1.]])\n",
            "tensor([[0., 0.],\n",
            "        [0., 0.]])\n",
            "tensor([[0.9551, 0.2190, 0.0300, 0.5759, 0.2755],\n",
            "        [0.8098, 0.6632, 0.1237, 0.7171, 0.1678],\n",
            "        [0.5125, 0.7470, 0.3219, 0.8345, 0.4490]])\n"
          ],
          "name": "stdout"
        }
      ]
    },
    {
      "cell_type": "markdown",
      "metadata": {
        "id": "hoVXYfkQ6EJi"
      },
      "source": [
        "### 텐서 인덱스"
      ]
    },
    {
      "cell_type": "code",
      "metadata": {
        "id": "YR-SbkP557md",
        "colab": {
          "base_uri": "https://localhost:8080/"
        },
        "outputId": "3c9a7d63-81ec-4f91-d01f-56031e40fbd8"
      },
      "source": [
        "temp = torch.Tensor([0, 1, 2, 3, 4, 5, 6, 7])\n",
        "\n",
        "print(temp[:]) # tensor element 전체\n",
        "print(temp[1:4]) # index 1과 4 사이의 원소들 출력\n",
        "print(temp[1:]) # index 1부터의 원소들 출력\n",
        "print(temp[:4]) # index 4까지의 원소들 출력\n",
        "print(temp[-1]) # 뒤에서 첫번째 원소 출력\n",
        "print(temp[:-1]) # index -1 = 뒤에서부터 index 1에 해당하는 원소까지만 출력\n",
        "print(temp[1:6:2]) # index 1과 6 사이의 원소 출력, 이때 2개 단위로 건너뛰면서"
      ],
      "execution_count": 18,
      "outputs": [
        {
          "output_type": "stream",
          "text": [
            "tensor([0., 1., 2., 3., 4., 5., 6., 7.])\n",
            "tensor([1., 2., 3.])\n",
            "tensor([1., 2., 3., 4., 5., 6., 7.])\n",
            "tensor([0., 1., 2., 3.])\n",
            "tensor(7.)\n",
            "tensor([0., 1., 2., 3., 4., 5., 6.])\n",
            "tensor([1., 3., 5.])\n"
          ],
          "name": "stdout"
        }
      ]
    },
    {
      "cell_type": "code",
      "metadata": {
        "id": "0DlQoqKz6H86",
        "colab": {
          "base_uri": "https://localhost:8080/"
        },
        "outputId": "00130414-386b-47ad-def5-89fd7d52493f"
      },
      "source": [
        "temp2 = torch.Tensor([[1, 2, 3], [4, 5, 6]])\n",
        "\n",
        "print(temp2)\n",
        "print(temp2[1:])\n",
        "print(temp2[1:, 1:])\n",
        "print(temp2[1:, 0])"
      ],
      "execution_count": 19,
      "outputs": [
        {
          "output_type": "stream",
          "text": [
            "tensor([[1., 2., 3.],\n",
            "        [4., 5., 6.]])\n",
            "tensor([[4., 5., 6.]])\n",
            "tensor([[5., 6.]])\n",
            "tensor([4.])\n"
          ],
          "name": "stdout"
        }
      ]
    },
    {
      "cell_type": "markdown",
      "metadata": {
        "id": "UlDwKTYy6OcF"
      },
      "source": [
        "- 실습\n",
        "\n",
        "1. 7 x 10 의 ones matrix를 생성한다\n",
        "2. indexing을 활용해서 위에서 만든 matrix를 3 x 3 으로 바꾼다"
      ]
    },
    {
      "cell_type": "code",
      "metadata": {
        "id": "nWFWz_AA6JaQ",
        "colab": {
          "base_uri": "https://localhost:8080/"
        },
        "outputId": "72bb8a7d-777f-46fa-9bcd-76c5311c6b00"
      },
      "source": [
        "y = torch.ones(7,10)\n",
        "print(y)\n",
        "y[4:,7:]"
      ],
      "execution_count": 28,
      "outputs": [
        {
          "output_type": "stream",
          "text": [
            "tensor([[1., 1., 1., 1., 1., 1., 1., 1., 1., 1.],\n",
            "        [1., 1., 1., 1., 1., 1., 1., 1., 1., 1.],\n",
            "        [1., 1., 1., 1., 1., 1., 1., 1., 1., 1.],\n",
            "        [1., 1., 1., 1., 1., 1., 1., 1., 1., 1.],\n",
            "        [1., 1., 1., 1., 1., 1., 1., 1., 1., 1.],\n",
            "        [1., 1., 1., 1., 1., 1., 1., 1., 1., 1.],\n",
            "        [1., 1., 1., 1., 1., 1., 1., 1., 1., 1.]])\n"
          ],
          "name": "stdout"
        },
        {
          "output_type": "execute_result",
          "data": {
            "text/plain": [
              "tensor([[1., 1., 1.],\n",
              "        [1., 1., 1.],\n",
              "        [1., 1., 1.]])"
            ]
          },
          "metadata": {
            "tags": []
          },
          "execution_count": 28
        }
      ]
    },
    {
      "cell_type": "markdown",
      "metadata": {
        "id": "qE4yPVT46nmr"
      },
      "source": [
        "### 텐서의 크기와 텐서 변환하기(reshape)"
      ]
    },
    {
      "cell_type": "code",
      "metadata": {
        "id": "qIWuqeFX6f_X",
        "colab": {
          "base_uri": "https://localhost:8080/"
        },
        "outputId": "31c381da-a7c0-4862-b213-c1742bfe195d"
      },
      "source": [
        "# shape: Returns the size of the tensor\n",
        "a = torch.Tensor([[1, 2, 3], [4, 5, 6]])\n",
        "\n",
        "print(a)\n",
        "print(a.shape)\n",
        "#reshape\n",
        "#view"
      ],
      "execution_count": 29,
      "outputs": [
        {
          "output_type": "stream",
          "text": [
            "tensor([[1., 2., 3.],\n",
            "        [4., 5., 6.]])\n",
            "torch.Size([2, 3])\n"
          ],
          "name": "stdout"
        }
      ]
    },
    {
      "cell_type": "code",
      "metadata": {
        "id": "XcJf6MOE6rU9"
      },
      "source": [
        "# size()\n",
        "print(a.size())"
      ],
      "execution_count": null,
      "outputs": []
    },
    {
      "cell_type": "code",
      "metadata": {
        "id": "rkFhG2ri6snX",
        "colab": {
          "base_uri": "https://localhost:8080/"
        },
        "outputId": "d77857bb-4ffc-4c62-83df-14ebe4404dd7"
      },
      "source": [
        "# Reshape: Returns a tensor with the same data and number of elements as the original tensor but with the specified shape. \n",
        "a_reshape = a.reshape(3, 2)\n",
        "print(a_reshape)\n",
        "print(a_reshape.shape)\n",
        "\n",
        "a_reshape_2 = a.reshape(-1, 2) # the size -1 is inferred from other dimensions\n",
        "print(a_reshape_2)\n",
        "print(a_reshape_2.shape)"
      ],
      "execution_count": 30,
      "outputs": [
        {
          "output_type": "stream",
          "text": [
            "tensor([[1., 2.],\n",
            "        [3., 4.],\n",
            "        [5., 6.]])\n",
            "torch.Size([3, 2])\n",
            "tensor([[1., 2.],\n",
            "        [3., 4.],\n",
            "        [5., 6.]])\n",
            "torch.Size([3, 2])\n"
          ],
          "name": "stdout"
        }
      ]
    },
    {
      "cell_type": "code",
      "metadata": {
        "id": "VtPess6T6uWe",
        "colab": {
          "base_uri": "https://localhost:8080/",
          "height": 192
        },
        "outputId": "8d96e554-fa15-443e-82bc-f878e9a4b186"
      },
      "source": [
        "# if shape is not compatible with the current shape:\n",
        "a_no_reshape = a.reshape(4, 2)"
      ],
      "execution_count": 31,
      "outputs": [
        {
          "output_type": "error",
          "ename": "RuntimeError",
          "evalue": "ignored",
          "traceback": [
            "\u001b[0;31m---------------------------------------------------------------------------\u001b[0m",
            "\u001b[0;31mRuntimeError\u001b[0m                              Traceback (most recent call last)",
            "\u001b[0;32m<ipython-input-31-1e7ad2969007>\u001b[0m in \u001b[0;36m<module>\u001b[0;34m()\u001b[0m\n\u001b[1;32m      1\u001b[0m \u001b[0;31m# if shape is not compatible with the current shape:\u001b[0m\u001b[0;34m\u001b[0m\u001b[0;34m\u001b[0m\u001b[0;34m\u001b[0m\u001b[0m\n\u001b[0;32m----> 2\u001b[0;31m \u001b[0ma_no_reshape\u001b[0m \u001b[0;34m=\u001b[0m \u001b[0ma\u001b[0m\u001b[0;34m.\u001b[0m\u001b[0mreshape\u001b[0m\u001b[0;34m(\u001b[0m\u001b[0;36m4\u001b[0m\u001b[0;34m,\u001b[0m \u001b[0;36m2\u001b[0m\u001b[0;34m)\u001b[0m\u001b[0;34m\u001b[0m\u001b[0;34m\u001b[0m\u001b[0m\n\u001b[0m",
            "\u001b[0;31mRuntimeError\u001b[0m: shape '[4, 2]' is invalid for input of size 6"
          ]
        }
      ]
    },
    {
      "cell_type": "code",
      "metadata": {
        "id": "81B60t5360tj",
        "colab": {
          "base_uri": "https://localhost:8080/"
        },
        "outputId": "2c5f77e4-b7f6-417e-c6ec-dcc80181c8b2"
      },
      "source": [
        "# View: Returns a new tensor with the same data as the original tensor but of a different shape.\n",
        "# reshape과 거의 비슷하게 사용\n",
        "\n",
        "x = torch.randn(4, 4)\n",
        "print(x.size())\n",
        "\n",
        "y = x.view(16)\n",
        "print(y.size())\n",
        "\n",
        "z = x.view(-1, 8)  # the size -1 is inferred from other dimensions\n",
        "print(z.size())"
      ],
      "execution_count": 32,
      "outputs": [
        {
          "output_type": "stream",
          "text": [
            "torch.Size([4, 4])\n",
            "torch.Size([16])\n",
            "torch.Size([2, 8])\n"
          ],
          "name": "stdout"
        }
      ]
    },
    {
      "cell_type": "code",
      "metadata": {
        "colab": {
          "base_uri": "https://localhost:8080/"
        },
        "id": "KfK7D-Jr5WpO",
        "outputId": "0fefa725-3149-4260-e092-850ed3224501"
      },
      "source": [
        "y\n"
      ],
      "execution_count": 34,
      "outputs": [
        {
          "output_type": "execute_result",
          "data": {
            "text/plain": [
              "tensor([-1.0352, -0.8172, -0.6267, -0.4811,  0.6841, -0.7988, -1.6286, -0.6555,\n",
              "        -0.9374, -0.7495, -0.4178, -2.1756, -0.4551,  0.9056, -0.6101, -0.1510])"
            ]
          },
          "metadata": {
            "tags": []
          },
          "execution_count": 34
        }
      ]
    },
    {
      "cell_type": "markdown",
      "metadata": {
        "id": "2wx60xoH7R-8"
      },
      "source": [
        "- 실습\n",
        "\n",
        "1. 8x8 랜덤 행렬 생성한다\n",
        "2. 크기를 바꿔주는 view를 사용하여 8x8를 64로 변환한다\n",
        "3. -1을 사용하여 원래 크기 8x8 을 4x4x4로 변환한다"
      ]
    },
    {
      "cell_type": "code",
      "metadata": {
        "id": "urlim5lL62OI",
        "colab": {
          "base_uri": "https://localhost:8080/"
        },
        "outputId": "86ddbcd2-fecd-42e9-b59a-03d7592dbce1"
      },
      "source": [
        "print(torch.rand(8,8))\n",
        "print(torch.rand(8,8).view(64))\n",
        "print(torch.rand(8,8).view(-1,4,4))"
      ],
      "execution_count": 40,
      "outputs": [
        {
          "output_type": "stream",
          "text": [
            "tensor([[0.3605, 0.0982, 0.3184, 0.3065, 0.0135, 0.6922, 0.5099, 0.5188],\n",
            "        [0.2182, 0.1823, 0.8795, 0.4962, 0.7982, 0.5057, 0.9446, 0.6584],\n",
            "        [0.6741, 0.0248, 0.9763, 0.5461, 0.1244, 0.8074, 0.6853, 0.7214],\n",
            "        [0.5960, 0.7095, 0.5988, 0.4389, 0.8030, 0.4449, 0.7446, 0.9876],\n",
            "        [0.0308, 0.6984, 0.8827, 0.0765, 0.4911, 0.2391, 0.2185, 0.4477],\n",
            "        [0.4360, 0.6366, 0.2710, 0.7434, 0.7107, 0.4309, 0.5087, 0.7227],\n",
            "        [0.4059, 0.0962, 0.2785, 0.8930, 0.7809, 0.4400, 0.8960, 0.4478],\n",
            "        [0.3706, 0.0059, 0.8924, 0.6790, 0.0997, 0.6342, 0.5468, 0.8945]])\n",
            "tensor([0.9695, 0.9731, 0.9885, 0.8523, 0.2723, 0.3540, 0.7918, 0.2609, 0.2607,\n",
            "        0.9476, 0.3425, 0.8909, 0.3056, 0.6817, 0.4011, 0.8824, 0.1667, 0.4254,\n",
            "        0.6708, 0.5225, 0.7429, 0.3364, 0.0550, 0.2504, 0.8467, 0.7606, 0.1532,\n",
            "        0.3708, 0.3169, 0.3839, 0.0724, 0.5308, 0.6986, 0.5455, 0.4926, 0.1047,\n",
            "        0.5703, 0.0825, 0.9644, 0.0111, 0.5339, 0.8681, 0.9561, 0.5093, 0.3399,\n",
            "        0.5883, 0.5396, 0.9432, 0.6621, 0.3459, 0.6482, 0.8295, 0.9955, 0.3791,\n",
            "        0.0026, 0.3589, 0.4187, 0.0464, 0.3929, 0.0758, 0.1453, 0.1992, 0.6285,\n",
            "        0.2928])\n",
            "tensor([[[0.0252, 0.6662, 0.5500, 0.6776],\n",
            "         [0.0054, 0.8949, 0.1574, 0.0538],\n",
            "         [0.7701, 0.5061, 0.4656, 0.6563],\n",
            "         [0.3204, 0.3048, 0.2624, 0.5182]],\n",
            "\n",
            "        [[0.8048, 0.5342, 0.4032, 0.3210],\n",
            "         [0.8539, 0.2974, 0.9408, 0.1571],\n",
            "         [0.5252, 0.2868, 0.7952, 0.5992],\n",
            "         [0.5937, 0.4640, 0.4487, 0.7854]],\n",
            "\n",
            "        [[0.0154, 0.3736, 0.8962, 0.0590],\n",
            "         [0.3764, 0.9607, 0.4781, 0.5629],\n",
            "         [0.3608, 0.5309, 0.0706, 0.6743],\n",
            "         [0.2430, 0.3675, 0.5860, 0.9253]],\n",
            "\n",
            "        [[0.4442, 0.2743, 0.9104, 0.1542],\n",
            "         [0.8466, 0.5679, 0.1641, 0.6843],\n",
            "         [0.9198, 0.6352, 0.9707, 0.3229],\n",
            "         [0.2672, 0.5161, 0.3653, 0.7391]]])\n"
          ],
          "name": "stdout"
        }
      ]
    },
    {
      "cell_type": "markdown",
      "metadata": {
        "id": "q2m4OvLh8JWo"
      },
      "source": [
        "### 텐서 연산"
      ]
    },
    {
      "cell_type": "code",
      "metadata": {
        "id": "gIes-OKQ7wKg",
        "colab": {
          "base_uri": "https://localhost:8080/"
        },
        "outputId": "5f596a7a-c292-4931-9ff1-5c696b43598d"
      },
      "source": [
        "x = torch.ones(1, 2)\n",
        "print(x)\n",
        "y = torch.ones(5, 3)\n",
        "print(y)"
      ],
      "execution_count": 41,
      "outputs": [
        {
          "output_type": "stream",
          "text": [
            "tensor([[1., 1.]])\n",
            "tensor([[1., 1., 1.],\n",
            "        [1., 1., 1.],\n",
            "        [1., 1., 1.],\n",
            "        [1., 1., 1.],\n",
            "        [1., 1., 1.]])\n"
          ],
          "name": "stdout"
        }
      ]
    },
    {
      "cell_type": "code",
      "metadata": {
        "id": "ueIKWkbL8NEz",
        "colab": {
          "base_uri": "https://localhost:8080/",
          "height": 174
        },
        "outputId": "928fa8fd-6e07-4ff7-8914-4a98efd74ee5"
      },
      "source": [
        "print(x+y)"
      ],
      "execution_count": 42,
      "outputs": [
        {
          "output_type": "error",
          "ename": "RuntimeError",
          "evalue": "ignored",
          "traceback": [
            "\u001b[0;31m---------------------------------------------------------------------------\u001b[0m",
            "\u001b[0;31mRuntimeError\u001b[0m                              Traceback (most recent call last)",
            "\u001b[0;32m<ipython-input-42-39cb3db33052>\u001b[0m in \u001b[0;36m<module>\u001b[0;34m()\u001b[0m\n\u001b[0;32m----> 1\u001b[0;31m \u001b[0mprint\u001b[0m\u001b[0;34m(\u001b[0m\u001b[0mx\u001b[0m\u001b[0;34m+\u001b[0m\u001b[0my\u001b[0m\u001b[0;34m)\u001b[0m\u001b[0;34m\u001b[0m\u001b[0;34m\u001b[0m\u001b[0m\n\u001b[0m",
            "\u001b[0;31mRuntimeError\u001b[0m: The size of tensor a (2) must match the size of tensor b (3) at non-singleton dimension 1"
          ]
        }
      ]
    },
    {
      "cell_type": "code",
      "metadata": {
        "id": "VNx8Pwkl8OaL",
        "colab": {
          "base_uri": "https://localhost:8080/"
        },
        "outputId": "b9b04e9a-4ed8-41dd-a147-8e7f7fefcb2c"
      },
      "source": [
        "y = torch.ones(5, 2)\n",
        "print(y)\n",
        "\n",
        "# 1.\n",
        "print(x+y)\n",
        "# 2. \n",
        "print(torch.add(x, y))\n",
        "# 3.\n",
        "result = torch.empty(5, 2)\n",
        "torch.add(x, y, out=result)\n",
        "print(result)\n",
        "# 4. inplace\n",
        "print(y.add_(x))"
      ],
      "execution_count": 43,
      "outputs": [
        {
          "output_type": "stream",
          "text": [
            "tensor([[1., 1.],\n",
            "        [1., 1.],\n",
            "        [1., 1.],\n",
            "        [1., 1.],\n",
            "        [1., 1.]])\n",
            "tensor([[2., 2.],\n",
            "        [2., 2.],\n",
            "        [2., 2.],\n",
            "        [2., 2.],\n",
            "        [2., 2.]])\n",
            "tensor([[2., 2.],\n",
            "        [2., 2.],\n",
            "        [2., 2.],\n",
            "        [2., 2.],\n",
            "        [2., 2.]])\n",
            "tensor([[2., 2.],\n",
            "        [2., 2.],\n",
            "        [2., 2.],\n",
            "        [2., 2.],\n",
            "        [2., 2.]])\n",
            "tensor([[2., 2.],\n",
            "        [2., 2.],\n",
            "        [2., 2.],\n",
            "        [2., 2.],\n",
            "        [2., 2.]])\n"
          ],
          "name": "stdout"
        }
      ]
    },
    {
      "cell_type": "markdown",
      "metadata": {
        "id": "Geq5Pr-t8aiO"
      },
      "source": [
        "### 텐서를 numpy로 변환하기"
      ]
    },
    {
      "cell_type": "code",
      "metadata": {
        "id": "kYrdfHKm8Qjm"
      },
      "source": [
        "# tensor to numpy array\n",
        "\n",
        "points = torch.ones(3, 4)\n",
        "points_np = points.numpy()\n",
        "\n",
        "print(points_np)"
      ],
      "execution_count": null,
      "outputs": []
    },
    {
      "cell_type": "code",
      "metadata": {
        "id": "tIRtFWUK8ebj"
      },
      "source": [
        "# numpy arrray to tensor\n",
        "points = torch.from_numpy(points_np)\n",
        "\n",
        "print(points)"
      ],
      "execution_count": null,
      "outputs": []
    },
    {
      "cell_type": "markdown",
      "metadata": {
        "id": "v6gVHYE48oH4"
      },
      "source": [
        "#### List, Numpy 배열을 텐서로 만들기"
      ]
    },
    {
      "cell_type": "code",
      "metadata": {
        "id": "LL6vnvaW8u0Y"
      },
      "source": [
        "import numpy as np"
      ],
      "execution_count": 45,
      "outputs": []
    },
    {
      "cell_type": "code",
      "metadata": {
        "id": "5sX3dFgI8f6z"
      },
      "source": [
        "l = [13,4] # 리스트 생성\n",
        "r = np.array([4,56,7]) # 넘파이 배열 생성"
      ],
      "execution_count": 46,
      "outputs": []
    },
    {
      "cell_type": "code",
      "metadata": {
        "id": "nltYH4m_8szC",
        "colab": {
          "base_uri": "https://localhost:8080/"
        },
        "outputId": "10c952a3-3893-4725-ffbc-cb8a0bd35cfd"
      },
      "source": [
        "torch.tensor(l) # 리스트를 텐서로 쉽게 변환할 수 있다."
      ],
      "execution_count": 47,
      "outputs": [
        {
          "output_type": "execute_result",
          "data": {
            "text/plain": [
              "tensor([13,  4])"
            ]
          },
          "metadata": {
            "tags": []
          },
          "execution_count": 47
        }
      ]
    },
    {
      "cell_type": "code",
      "metadata": {
        "id": "b05CcQ7a8yCg",
        "colab": {
          "base_uri": "https://localhost:8080/"
        },
        "outputId": "f7035662-54e1-4acf-b926-ce4dc71910c7"
      },
      "source": [
        "torch.tensor(r) # 넘파이 배열을 텐서로 쉽게 변환할 수 있다."
      ],
      "execution_count": 48,
      "outputs": [
        {
          "output_type": "execute_result",
          "data": {
            "text/plain": [
              "tensor([ 4, 56,  7])"
            ]
          },
          "metadata": {
            "tags": []
          },
          "execution_count": 48
        }
      ]
    },
    {
      "cell_type": "markdown",
      "metadata": {
        "id": "8--Mr-qG-idR"
      },
      "source": [
        "## Backpropagation\n",
        "\n",
        "- PyTorch는 역전파(backpropagation)를 위한 자동미분 제공"
      ]
    },
    {
      "cell_type": "code",
      "metadata": {
        "id": "xag82LFB7g_v"
      },
      "source": [
        "# Dataloader , Dataset\n",
        "# kaggle iris daaset , boston housing ->pytorch simple neural networks"
      ],
      "execution_count": 49,
      "outputs": []
    },
    {
      "cell_type": "code",
      "metadata": {
        "id": "-4sEdz7Y8zAM",
        "colab": {
          "base_uri": "https://localhost:8080/"
        },
        "outputId": "ceca6a4b-6dcd-42ff-cba9-8cef081e4ae6"
      },
      "source": [
        "# requires_grad=True는 해당 텐서(x)를 기준으로 모든 연산을 추적하는 옵션이다\n",
        "# 즉, x에 대해서 미분가능\n",
        "x = torch.ones(2,2, requires_grad=True)\n",
        "print(x)"
      ],
      "execution_count": 50,
      "outputs": [
        {
          "output_type": "stream",
          "text": [
            "tensor([[1., 1.],\n",
            "        [1., 1.]], requires_grad=True)\n"
          ],
          "name": "stdout"
        }
      ]
    },
    {
      "cell_type": "code",
      "metadata": {
        "id": "YI9R6Ncm--DU",
        "colab": {
          "base_uri": "https://localhost:8080/"
        },
        "outputId": "40758b72-d9d7-4e38-ddc1-3e489139a798"
      },
      "source": [
        "# y는 x에 대한 식\n",
        "y = x + 1\n",
        "\n",
        "# z는 y에 대한 식\n",
        "z = 2*y**2\n",
        "\n",
        "# res는 z에 대한 식이다\n",
        "res = z.mean()\n",
        "\n",
        "# x에 대해 미분가능\n",
        "print(\"y: \", y)\n",
        "print(\"z: \", z)\n",
        "print(\"Result: \", res)"
      ],
      "execution_count": 51,
      "outputs": [
        {
          "output_type": "stream",
          "text": [
            "y:  tensor([[2., 2.],\n",
            "        [2., 2.]], grad_fn=<AddBackward0>)\n",
            "z:  tensor([[8., 8.],\n",
            "        [8., 8.]], grad_fn=<MulBackward0>)\n",
            "Result:  tensor(8., grad_fn=<MeanBackward0>)\n"
          ],
          "name": "stdout"
        }
      ]
    },
    {
      "cell_type": "code",
      "metadata": {
        "id": "lYCphJOE-_pP"
      },
      "source": [
        "# res를 기준으로 역전파를 한다\n",
        "# ex. loss.backward()\n",
        "\n",
        "# res = (z_1 + .. +z_4)/4\n",
        "# z_i = 2(y_i)**2\n",
        "# z_i = 2(x_i+1)**2\n",
        "# d(res)/dx_i = x_i + 1\n",
        "\n",
        "res.backward()"
      ],
      "execution_count": 52,
      "outputs": []
    },
    {
      "cell_type": "code",
      "metadata": {
        "id": "LvulBR9f_oJ4",
        "colab": {
          "base_uri": "https://localhost:8080/"
        },
        "outputId": "b800c3ea-0722-4b19-95a8-c8f7fd8aaaf8"
      },
      "source": [
        "print(x)\n",
        "print(x.grad)"
      ],
      "execution_count": 53,
      "outputs": [
        {
          "output_type": "stream",
          "text": [
            "tensor([[1., 1.],\n",
            "        [1., 1.]], requires_grad=True)\n",
            "tensor([[2., 2.],\n",
            "        [2., 2.]])\n"
          ],
          "name": "stdout"
        }
      ]
    },
    {
      "cell_type": "code",
      "metadata": {
        "id": "vJ1GYo6q_q4e"
      },
      "source": [
        ""
      ],
      "execution_count": null,
      "outputs": []
    }
  ]
}